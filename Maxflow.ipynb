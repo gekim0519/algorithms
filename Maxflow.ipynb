{
 "cells": [
  {
   "cell_type": "markdown",
   "metadata": {},
   "source": [
    "# Max Flow Applications"
   ]
  },
  {
   "cell_type": "markdown",
   "metadata": {},
   "source": [
    "## Movie distribution\n",
    "\n",
    "Now suppose a movie distributor would like to ship a copy of a film from CA to every other state. There are therefore 48 units to ship out of CA, and each other state receives 1 unit. \n",
    "\n",
    "The dataset contiguous-usa.dat lists the adjacent states in the US. Each line lists two adjacent states; thus AK and HI are omitted, but DC is included in the data. The following code reads in the graph of US states."
   ]
  },
  {
   "cell_type": "code",
   "execution_count": 14,
   "metadata": {
    "collapsed": true
   },
   "outputs": [],
   "source": [
    "import networkx as nx\n",
    "G = nx.Graph()\n",
    "\n",
    "usa = open('contiguous-usa.dat')\n",
    "for line in usa:\n",
    "    s1, s2 = line.strip().split()\n",
    "    G.add_edge(s1, s2)"
   ]
  },
  {
   "cell_type": "markdown",
   "metadata": {},
   "source": [
    "We now encode the demands into the graph."
   ]
  },
  {
   "cell_type": "code",
   "execution_count": 15,
   "metadata": {
    "collapsed": true
   },
   "outputs": [],
   "source": [
    "for state in G.nodes():\n",
    "    if state != 'CA':\n",
    "        G.node[state]['demand'] = 1\n",
    "G.node['CA']['demand'] = -48"
   ]
  },
  {
   "cell_type": "markdown",
   "metadata": {},
   "source": [
    "We will assign a uniform capacity of 16 to each edge. Since CA has only three adjacent states, this is the smallest possible uniform capacity that allows one to ship all 48 units out of CA. As we have created an undirected graph, and flows have directions, we first convert the graph to a directed graph."
   ]
  },
  {
   "cell_type": "code",
   "execution_count": 16,
   "metadata": {
    "collapsed": true
   },
   "outputs": [],
   "source": [
    "G = nx.DiGraph(G)\n",
    "uniform_capacity = 16\n",
    "for (s1, s2) in G.edges():\n",
    "    G.edge[s1][s2]['capacity'] = uniform_capacity"
   ]
  },
  {
   "cell_type": "markdown",
   "metadata": {},
   "source": [
    "Complete the following function to implement your algorithm to find a flow with demands. Your function should work correctly for any input, not just the movie instance considered here. As always, you are encouraged to define auxiliary functions as needed for clarity."
   ]
  },
  {
   "cell_type": "code",
   "execution_count": null,
   "metadata": {
    "collapsed": true
   },
   "outputs": [],
   "source": [
    "def fold_fulkerson(graph):\n",
    "    "
   ]
  },
  {
   "cell_type": "code",
   "execution_count": 17,
   "metadata": {
    "collapsed": true
   },
   "outputs": [],
   "source": [
    "def flow_with_demands(graph):\n",
    "    for state in graph.nodes():\n",
    "        if graph.node[state]['demand'] < 0:\n",
    "            graph.add_edge('S', state, capacity = -graph.node[state]['demand'])\n",
    "    \n",
    "        elif graph.node[state]['demand'] > 0:\n",
    "            graph.add_edge(state, 'T', capacity = graph.node[state]['demand'])\n",
    "        \n",
    "    flow_value, flow_dict = nx.maximum_flow(graph, 'S', 'T')\n",
    "    \n",
    "    for state in graph.nodes():\n",
    "        if state !='T' and state !='S':\n",
    "            if graph.node[state]['demand'] < 0:\n",
    "                graph.remove_edge('S', state)\n",
    "            elif graph.node[state]['demand'] > 0:\n",
    "                graph.remove_edge(state, 'T')\n",
    "    \n",
    "    graph.remove_node('S')\n",
    "    graph.remove_node('T')\n",
    "    del flow_dict['S']\n",
    "    del flow_dict['T']\n",
    "    \n",
    "    for i in flow_dict:\n",
    "        for j in flow_dict[i].keys():\n",
    "            if j =='S' or j =='T':\n",
    "                del flow_dict[i][j]\n",
    "                \n",
    "    # checking if flow satisfies demands\n",
    "    s_demand = 0\n",
    "    t_demand = 0\n",
    "    for state in G.nodes():\n",
    "        if  G.node[state]['demand'] < 0:\n",
    "            s_demand = s_demand+G.node[state]['demand']   \n",
    "        elif G.node[state]['demand'] > 0:\n",
    "            t_demand = t_demand+G.node[state]['demand']    \n",
    "    \n",
    "    if s_demand + t_demand == 0 and flow_value == t_demand:\n",
    "        return flow_dict\n",
    "    else:\n",
    "        raise nx.NetworkXUnfeasible('No flow satisfying the demands.')"
   ]
  },
  {
   "cell_type": "markdown",
   "metadata": {},
   "source": [
    "To verify that your solution is correct, implement a function that computes the total flow into each node (which will be negative for supply nodes)."
   ]
  },
  {
   "cell_type": "code",
   "execution_count": 18,
   "metadata": {
    "collapsed": true
   },
   "outputs": [],
   "source": [
    "def divergence(flow):\n",
    "    div_dict = {}\n",
    "    for i in flow.keys():\n",
    "        flow_in = 0\n",
    "        flow_out = 0\n",
    "        flow_out = sum(flow[i].values())\n",
    "        for j in flow.keys():\n",
    "            for k in flow[j]:\n",
    "                if k == i:\n",
    "                    flow_in = flow_in + flow[j][k]\n",
    "        d = flow_in - flow_out\n",
    "        div_dict[i] = d\n",
    "    return div_dict"
   ]
  },
  {
   "cell_type": "markdown",
   "metadata": {},
   "source": [
    "The following code performs a sanity check on your function (but does not completely confirm correctness)."
   ]
  },
  {
   "cell_type": "code",
   "execution_count": 19,
   "metadata": {},
   "outputs": [
    {
     "name": "stdout",
     "output_type": "stream",
     "text": [
      "Flow satisfies all demands: True\n"
     ]
    }
   ],
   "source": [
    "flow = flow_with_demands(G)\n",
    "div = divergence(flow)\n",
    "print \"Flow satisfies all demands:\", all(div[n] == G.node[n]['demand'] for n in G.nodes())"
   ]
  }
 ],
 "metadata": {
  "kernelspec": {
   "display_name": "Python 2",
   "language": "python",
   "name": "python2"
  },
  "language_info": {
   "codemirror_mode": {
    "name": "ipython",
    "version": 2
   },
   "file_extension": ".py",
   "mimetype": "text/x-python",
   "name": "python",
   "nbconvert_exporter": "python",
   "pygments_lexer": "ipython2",
   "version": "2.7.13"
  }
 },
 "nbformat": 4,
 "nbformat_minor": 1
}
